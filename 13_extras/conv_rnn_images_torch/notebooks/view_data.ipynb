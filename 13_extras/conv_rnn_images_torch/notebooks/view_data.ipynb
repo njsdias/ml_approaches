{
 "cells": [
  {
   "cell_type": "code",
   "execution_count": null,
   "metadata": {},
   "outputs": [],
   "source": [
    "import os\n",
    "import glob\n",
    "import torch\n",
    "import numpy as np\n",
    "from sklearn import preprocessing, model_selection, metrics\n",
    "\n",
    "\n",
    "import sys\n",
    "sys.path.append(\"../src/\")\n",
    "import config\n",
    "\n",
    "egg_path = '__MODULE_PATH__/datasets-0.0.9-py3.6.egg'\n",
    "sys.path.append(egg_path)\n",
    "import dataset\n",
    "\n",
    "import matplotlib.pyplot as plt\n",
    "%matplotlib inline"
   ]
  },
  {
   "cell_type": "code",
   "execution_count": null,
   "metadata": {},
   "outputs": [],
   "source": [
    "image_files = glob.glob(os.path.join(config.DATA_DIR, \"*.png\"))\n",
    "\n",
    "# \"/../../sdfrt.png\" the next line only select the name of the file: sdfrt\n",
    "targets_orig = [x.split(\"/\")[-1][:-4] for x in image_files]\n",
    "\n",
    "# sdfrt -> [s, d, f, r, t]\n",
    "targets = [[c for c in x] for x in targets_orig]\n",
    "\n",
    "targets_flat = [c for clist in targets for c in clist]\n",
    "\n",
    "lbl_enc = preprocessing.LabelEncoder()\n",
    "lbl_enc.fit(targets_flat)\n",
    "\n",
    "# Encode the targets\n",
    "targets_enc = [lbl_enc.transform(x) for x in targets]\n",
    "\n",
    "# Transform targets_enc to np.array\n",
    "# The labels are encoded from 0 to N-1 where N is the number of labels\n",
    "# we want to keep 0 to unknown so add 1\n",
    "targets_enc = np.array(targets_enc) + 1\n",
    "\n",
    "print(targets)\n",
    "print(np.unique(targets_flat))\n",
    "print(targets_enc)\n",
    "print(len(lbl_enc.classes_))\n",
    "\n",
    "# split in train, test for: imgs, targets, orig_targets\n",
    "train_imgs, test_imgs, train_targets, test_targets, \\\n",
    "train_orig_targets, test_orig_targets = model_selection.train_test_split(image_files, targets_enc, targets_orig,\n",
    "                                                                         test_size=0.1, random_state=42)\n",
    "\n",
    "train_dataset = dataset.ClassificationDataset(image_paths=train_imgs, targets=train_targets,\n",
    "                                              resize=(config.IMAGE_HEIGHT, config.IMAGE_WIDTH))\n",
    "\n"
   ]
  },
  {
   "cell_type": "code",
   "execution_count": null,
   "metadata": {},
   "outputs": [],
   "source": [
    "npimg = train_dataset[0][\"images\"].numpy()"
   ]
  },
  {
   "cell_type": "code",
   "execution_count": null,
   "metadata": {},
   "outputs": [],
   "source": [
    "# channels, height, width\n",
    "npimg.shape"
   ]
  },
  {
   "cell_type": "code",
   "execution_count": null,
   "metadata": {},
   "outputs": [],
   "source": [
    "# to put channel to the end we need to transpose the image \n",
    "# height, width, channel\n",
    "np.transpose(npimg,(1,2,0)).shape"
   ]
  },
  {
   "cell_type": "code",
   "execution_count": null,
   "metadata": {},
   "outputs": [],
   "source": [
    "# plot the image\n",
    "plt.imshow(np.transpose(npimg,(1,2,0)))"
   ]
  },
  {
   "cell_type": "code",
   "execution_count": null,
   "metadata": {},
   "outputs": [],
   "source": []
  },
  {
   "cell_type": "code",
   "execution_count": null,
   "metadata": {},
   "outputs": [],
   "source": []
  }
 ],
 "metadata": {
  "kernelspec": {
   "display_name": "Python 3",
   "language": "python",
   "name": "python3"
  },
  "language_info": {
   "codemirror_mode": {
    "name": "ipython",
    "version": 3
   },
   "file_extension": ".py",
   "mimetype": "text/x-python",
   "name": "python",
   "nbconvert_exporter": "python",
   "pygments_lexer": "ipython3",
   "version": "3.6.9"
  }
 },
 "nbformat": 4,
 "nbformat_minor": 4
}
